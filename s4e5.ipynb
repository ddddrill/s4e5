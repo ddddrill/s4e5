{
 "cells": [
  {
   "cell_type": "markdown",
   "metadata": {},
   "source": [
    "## let's start"
   ]
  },
  {
   "cell_type": "markdown",
   "metadata": {},
   "source": [
    "### learn some data"
   ]
  },
  {
   "cell_type": "code",
   "execution_count": 2,
   "metadata": {},
   "outputs": [],
   "source": [
    "#import libriries \n",
    "\n",
    "import pandas as pd \n",
    "import seaborn as sns\n",
    "import numpy as np\n",
    "import sklearn\n",
    "import torch\n",
    "import torch.nn as nn\n",
    "import pickle\n",
    "import torch.utils\n",
    "\n",
    "from matplotlib import pyplot as plt \n",
    "from sklearn.preprocessing import StandardScaler\n",
    "from sklearn.metrics import r2_score\n",
    "from catboost import CatBoostRegressor\n",
    "from xgboost import XGBRegressor\n",
    "from torch.utils.data import DataLoader, TensorDataset\n",
    "from torchsummary import summary\n",
    "from tqdm import tqdm\n",
    "from sklearn.model_selection import RandomizedSearchCV,train_test_split"
   ]
  },
  {
   "cell_type": "code",
   "execution_count": 3,
   "metadata": {},
   "outputs": [],
   "source": [
    "# data path\n",
    "train_p=r'E:\\mphti\\training\\s4e5\\train.csv'\n",
    "test_p=r'E:\\mphti\\training\\s4e5\\test.csv'\n",
    "\n",
    "# read data\n",
    "train=pd.read_csv(train_p)\n",
    "test=pd.read_csv(test_p)"
   ]
  },
  {
   "cell_type": "code",
   "execution_count": 4,
   "metadata": {},
   "outputs": [
    {
     "data": {
      "text/html": [
       "<div>\n",
       "<style scoped>\n",
       "    .dataframe tbody tr th:only-of-type {\n",
       "        vertical-align: middle;\n",
       "    }\n",
       "\n",
       "    .dataframe tbody tr th {\n",
       "        vertical-align: top;\n",
       "    }\n",
       "\n",
       "    .dataframe thead th {\n",
       "        text-align: right;\n",
       "    }\n",
       "</style>\n",
       "<table border=\"1\" class=\"dataframe\">\n",
       "  <thead>\n",
       "    <tr style=\"text-align: right;\">\n",
       "      <th></th>\n",
       "      <th>id</th>\n",
       "      <th>MonsoonIntensity</th>\n",
       "      <th>TopographyDrainage</th>\n",
       "      <th>RiverManagement</th>\n",
       "      <th>Deforestation</th>\n",
       "      <th>Urbanization</th>\n",
       "      <th>ClimateChange</th>\n",
       "      <th>DamsQuality</th>\n",
       "      <th>Siltation</th>\n",
       "      <th>AgriculturalPractices</th>\n",
       "      <th>...</th>\n",
       "      <th>DrainageSystems</th>\n",
       "      <th>CoastalVulnerability</th>\n",
       "      <th>Landslides</th>\n",
       "      <th>Watersheds</th>\n",
       "      <th>DeterioratingInfrastructure</th>\n",
       "      <th>PopulationScore</th>\n",
       "      <th>WetlandLoss</th>\n",
       "      <th>InadequatePlanning</th>\n",
       "      <th>PoliticalFactors</th>\n",
       "      <th>FloodProbability</th>\n",
       "    </tr>\n",
       "  </thead>\n",
       "  <tbody>\n",
       "    <tr>\n",
       "      <th>0</th>\n",
       "      <td>0</td>\n",
       "      <td>5</td>\n",
       "      <td>8</td>\n",
       "      <td>5</td>\n",
       "      <td>8</td>\n",
       "      <td>6</td>\n",
       "      <td>4</td>\n",
       "      <td>4</td>\n",
       "      <td>3</td>\n",
       "      <td>3</td>\n",
       "      <td>...</td>\n",
       "      <td>5</td>\n",
       "      <td>3</td>\n",
       "      <td>3</td>\n",
       "      <td>5</td>\n",
       "      <td>4</td>\n",
       "      <td>7</td>\n",
       "      <td>5</td>\n",
       "      <td>7</td>\n",
       "      <td>3</td>\n",
       "      <td>0.445</td>\n",
       "    </tr>\n",
       "    <tr>\n",
       "      <th>1</th>\n",
       "      <td>1</td>\n",
       "      <td>6</td>\n",
       "      <td>7</td>\n",
       "      <td>4</td>\n",
       "      <td>4</td>\n",
       "      <td>8</td>\n",
       "      <td>8</td>\n",
       "      <td>3</td>\n",
       "      <td>5</td>\n",
       "      <td>4</td>\n",
       "      <td>...</td>\n",
       "      <td>7</td>\n",
       "      <td>2</td>\n",
       "      <td>0</td>\n",
       "      <td>3</td>\n",
       "      <td>5</td>\n",
       "      <td>3</td>\n",
       "      <td>3</td>\n",
       "      <td>4</td>\n",
       "      <td>3</td>\n",
       "      <td>0.450</td>\n",
       "    </tr>\n",
       "    <tr>\n",
       "      <th>2</th>\n",
       "      <td>2</td>\n",
       "      <td>6</td>\n",
       "      <td>5</td>\n",
       "      <td>6</td>\n",
       "      <td>7</td>\n",
       "      <td>3</td>\n",
       "      <td>7</td>\n",
       "      <td>1</td>\n",
       "      <td>5</td>\n",
       "      <td>4</td>\n",
       "      <td>...</td>\n",
       "      <td>7</td>\n",
       "      <td>3</td>\n",
       "      <td>7</td>\n",
       "      <td>5</td>\n",
       "      <td>6</td>\n",
       "      <td>8</td>\n",
       "      <td>2</td>\n",
       "      <td>3</td>\n",
       "      <td>3</td>\n",
       "      <td>0.530</td>\n",
       "    </tr>\n",
       "    <tr>\n",
       "      <th>3</th>\n",
       "      <td>3</td>\n",
       "      <td>3</td>\n",
       "      <td>4</td>\n",
       "      <td>6</td>\n",
       "      <td>5</td>\n",
       "      <td>4</td>\n",
       "      <td>8</td>\n",
       "      <td>4</td>\n",
       "      <td>7</td>\n",
       "      <td>6</td>\n",
       "      <td>...</td>\n",
       "      <td>2</td>\n",
       "      <td>4</td>\n",
       "      <td>7</td>\n",
       "      <td>4</td>\n",
       "      <td>4</td>\n",
       "      <td>6</td>\n",
       "      <td>5</td>\n",
       "      <td>7</td>\n",
       "      <td>5</td>\n",
       "      <td>0.535</td>\n",
       "    </tr>\n",
       "    <tr>\n",
       "      <th>4</th>\n",
       "      <td>4</td>\n",
       "      <td>5</td>\n",
       "      <td>3</td>\n",
       "      <td>2</td>\n",
       "      <td>6</td>\n",
       "      <td>4</td>\n",
       "      <td>4</td>\n",
       "      <td>3</td>\n",
       "      <td>3</td>\n",
       "      <td>3</td>\n",
       "      <td>...</td>\n",
       "      <td>2</td>\n",
       "      <td>2</td>\n",
       "      <td>6</td>\n",
       "      <td>6</td>\n",
       "      <td>4</td>\n",
       "      <td>1</td>\n",
       "      <td>2</td>\n",
       "      <td>3</td>\n",
       "      <td>5</td>\n",
       "      <td>0.415</td>\n",
       "    </tr>\n",
       "  </tbody>\n",
       "</table>\n",
       "<p>5 rows × 22 columns</p>\n",
       "</div>"
      ],
      "text/plain": [
       "   id  MonsoonIntensity  TopographyDrainage  RiverManagement  Deforestation  \\\n",
       "0   0                 5                   8                5              8   \n",
       "1   1                 6                   7                4              4   \n",
       "2   2                 6                   5                6              7   \n",
       "3   3                 3                   4                6              5   \n",
       "4   4                 5                   3                2              6   \n",
       "\n",
       "   Urbanization  ClimateChange  DamsQuality  Siltation  AgriculturalPractices  \\\n",
       "0             6              4            4          3                      3   \n",
       "1             8              8            3          5                      4   \n",
       "2             3              7            1          5                      4   \n",
       "3             4              8            4          7                      6   \n",
       "4             4              4            3          3                      3   \n",
       "\n",
       "   ...  DrainageSystems  CoastalVulnerability  Landslides  Watersheds  \\\n",
       "0  ...                5                     3           3           5   \n",
       "1  ...                7                     2           0           3   \n",
       "2  ...                7                     3           7           5   \n",
       "3  ...                2                     4           7           4   \n",
       "4  ...                2                     2           6           6   \n",
       "\n",
       "   DeterioratingInfrastructure  PopulationScore  WetlandLoss  \\\n",
       "0                            4                7            5   \n",
       "1                            5                3            3   \n",
       "2                            6                8            2   \n",
       "3                            4                6            5   \n",
       "4                            4                1            2   \n",
       "\n",
       "   InadequatePlanning  PoliticalFactors  FloodProbability  \n",
       "0                   7                 3             0.445  \n",
       "1                   4                 3             0.450  \n",
       "2                   3                 3             0.530  \n",
       "3                   7                 5             0.535  \n",
       "4                   3                 5             0.415  \n",
       "\n",
       "[5 rows x 22 columns]"
      ]
     },
     "execution_count": 4,
     "metadata": {},
     "output_type": "execute_result"
    }
   ],
   "source": [
    "train.head(5)"
   ]
  },
  {
   "cell_type": "code",
   "execution_count": 5,
   "metadata": {},
   "outputs": [
    {
     "data": {
      "text/html": [
       "<div>\n",
       "<style scoped>\n",
       "    .dataframe tbody tr th:only-of-type {\n",
       "        vertical-align: middle;\n",
       "    }\n",
       "\n",
       "    .dataframe tbody tr th {\n",
       "        vertical-align: top;\n",
       "    }\n",
       "\n",
       "    .dataframe thead th {\n",
       "        text-align: right;\n",
       "    }\n",
       "</style>\n",
       "<table border=\"1\" class=\"dataframe\">\n",
       "  <thead>\n",
       "    <tr style=\"text-align: right;\">\n",
       "      <th></th>\n",
       "      <th>id</th>\n",
       "      <th>MonsoonIntensity</th>\n",
       "      <th>TopographyDrainage</th>\n",
       "      <th>RiverManagement</th>\n",
       "      <th>Deforestation</th>\n",
       "      <th>Urbanization</th>\n",
       "      <th>ClimateChange</th>\n",
       "      <th>DamsQuality</th>\n",
       "      <th>Siltation</th>\n",
       "      <th>AgriculturalPractices</th>\n",
       "      <th>...</th>\n",
       "      <th>IneffectiveDisasterPreparedness</th>\n",
       "      <th>DrainageSystems</th>\n",
       "      <th>CoastalVulnerability</th>\n",
       "      <th>Landslides</th>\n",
       "      <th>Watersheds</th>\n",
       "      <th>DeterioratingInfrastructure</th>\n",
       "      <th>PopulationScore</th>\n",
       "      <th>WetlandLoss</th>\n",
       "      <th>InadequatePlanning</th>\n",
       "      <th>PoliticalFactors</th>\n",
       "    </tr>\n",
       "  </thead>\n",
       "  <tbody>\n",
       "    <tr>\n",
       "      <th>0</th>\n",
       "      <td>1117957</td>\n",
       "      <td>4</td>\n",
       "      <td>6</td>\n",
       "      <td>3</td>\n",
       "      <td>5</td>\n",
       "      <td>6</td>\n",
       "      <td>7</td>\n",
       "      <td>8</td>\n",
       "      <td>7</td>\n",
       "      <td>8</td>\n",
       "      <td>...</td>\n",
       "      <td>8</td>\n",
       "      <td>5</td>\n",
       "      <td>7</td>\n",
       "      <td>5</td>\n",
       "      <td>6</td>\n",
       "      <td>3</td>\n",
       "      <td>6</td>\n",
       "      <td>4</td>\n",
       "      <td>4</td>\n",
       "      <td>5</td>\n",
       "    </tr>\n",
       "    <tr>\n",
       "      <th>1</th>\n",
       "      <td>1117958</td>\n",
       "      <td>4</td>\n",
       "      <td>4</td>\n",
       "      <td>2</td>\n",
       "      <td>9</td>\n",
       "      <td>5</td>\n",
       "      <td>5</td>\n",
       "      <td>4</td>\n",
       "      <td>7</td>\n",
       "      <td>5</td>\n",
       "      <td>...</td>\n",
       "      <td>2</td>\n",
       "      <td>4</td>\n",
       "      <td>7</td>\n",
       "      <td>4</td>\n",
       "      <td>5</td>\n",
       "      <td>1</td>\n",
       "      <td>7</td>\n",
       "      <td>4</td>\n",
       "      <td>4</td>\n",
       "      <td>3</td>\n",
       "    </tr>\n",
       "    <tr>\n",
       "      <th>2</th>\n",
       "      <td>1117959</td>\n",
       "      <td>1</td>\n",
       "      <td>3</td>\n",
       "      <td>6</td>\n",
       "      <td>5</td>\n",
       "      <td>7</td>\n",
       "      <td>2</td>\n",
       "      <td>4</td>\n",
       "      <td>6</td>\n",
       "      <td>4</td>\n",
       "      <td>...</td>\n",
       "      <td>7</td>\n",
       "      <td>9</td>\n",
       "      <td>2</td>\n",
       "      <td>5</td>\n",
       "      <td>5</td>\n",
       "      <td>2</td>\n",
       "      <td>3</td>\n",
       "      <td>6</td>\n",
       "      <td>8</td>\n",
       "      <td>3</td>\n",
       "    </tr>\n",
       "    <tr>\n",
       "      <th>3</th>\n",
       "      <td>1117960</td>\n",
       "      <td>2</td>\n",
       "      <td>4</td>\n",
       "      <td>4</td>\n",
       "      <td>6</td>\n",
       "      <td>4</td>\n",
       "      <td>5</td>\n",
       "      <td>4</td>\n",
       "      <td>3</td>\n",
       "      <td>4</td>\n",
       "      <td>...</td>\n",
       "      <td>7</td>\n",
       "      <td>8</td>\n",
       "      <td>4</td>\n",
       "      <td>6</td>\n",
       "      <td>7</td>\n",
       "      <td>6</td>\n",
       "      <td>4</td>\n",
       "      <td>2</td>\n",
       "      <td>4</td>\n",
       "      <td>4</td>\n",
       "    </tr>\n",
       "    <tr>\n",
       "      <th>4</th>\n",
       "      <td>1117961</td>\n",
       "      <td>6</td>\n",
       "      <td>3</td>\n",
       "      <td>2</td>\n",
       "      <td>4</td>\n",
       "      <td>6</td>\n",
       "      <td>4</td>\n",
       "      <td>5</td>\n",
       "      <td>5</td>\n",
       "      <td>3</td>\n",
       "      <td>...</td>\n",
       "      <td>4</td>\n",
       "      <td>3</td>\n",
       "      <td>2</td>\n",
       "      <td>6</td>\n",
       "      <td>4</td>\n",
       "      <td>6</td>\n",
       "      <td>8</td>\n",
       "      <td>4</td>\n",
       "      <td>5</td>\n",
       "      <td>5</td>\n",
       "    </tr>\n",
       "  </tbody>\n",
       "</table>\n",
       "<p>5 rows × 21 columns</p>\n",
       "</div>"
      ],
      "text/plain": [
       "        id  MonsoonIntensity  TopographyDrainage  RiverManagement  \\\n",
       "0  1117957                 4                   6                3   \n",
       "1  1117958                 4                   4                2   \n",
       "2  1117959                 1                   3                6   \n",
       "3  1117960                 2                   4                4   \n",
       "4  1117961                 6                   3                2   \n",
       "\n",
       "   Deforestation  Urbanization  ClimateChange  DamsQuality  Siltation  \\\n",
       "0              5             6              7            8          7   \n",
       "1              9             5              5            4          7   \n",
       "2              5             7              2            4          6   \n",
       "3              6             4              5            4          3   \n",
       "4              4             6              4            5          5   \n",
       "\n",
       "   AgriculturalPractices  ...  IneffectiveDisasterPreparedness  \\\n",
       "0                      8  ...                                8   \n",
       "1                      5  ...                                2   \n",
       "2                      4  ...                                7   \n",
       "3                      4  ...                                7   \n",
       "4                      3  ...                                4   \n",
       "\n",
       "   DrainageSystems  CoastalVulnerability  Landslides  Watersheds  \\\n",
       "0                5                     7           5           6   \n",
       "1                4                     7           4           5   \n",
       "2                9                     2           5           5   \n",
       "3                8                     4           6           7   \n",
       "4                3                     2           6           4   \n",
       "\n",
       "   DeterioratingInfrastructure  PopulationScore  WetlandLoss  \\\n",
       "0                            3                6            4   \n",
       "1                            1                7            4   \n",
       "2                            2                3            6   \n",
       "3                            6                4            2   \n",
       "4                            6                8            4   \n",
       "\n",
       "   InadequatePlanning  PoliticalFactors  \n",
       "0                   4                 5  \n",
       "1                   4                 3  \n",
       "2                   8                 3  \n",
       "3                   4                 4  \n",
       "4                   5                 5  \n",
       "\n",
       "[5 rows x 21 columns]"
      ]
     },
     "execution_count": 5,
     "metadata": {},
     "output_type": "execute_result"
    }
   ],
   "source": [
    "test.head(5)"
   ]
  },
  {
   "cell_type": "markdown",
   "metadata": {},
   "source": [
    "### let's separate the id columns from the dataset, because they do not represent information that would affect the result"
   ]
  },
  {
   "cell_type": "code",
   "execution_count": 6,
   "metadata": {},
   "outputs": [],
   "source": [
    "train_id=train['id']\n",
    "train.drop(columns='id',axis=1,inplace=True)\n",
    "test_id=test['id']\n",
    "test.drop(columns='id',axis=1,inplace=True)"
   ]
  },
  {
   "cell_type": "markdown",
   "metadata": {},
   "source": [
    "### drop N/A"
   ]
  },
  {
   "cell_type": "code",
   "execution_count": 7,
   "metadata": {},
   "outputs": [
    {
     "name": "stdout",
     "output_type": "stream",
     "text": [
      "TRAIN data\n",
      "\n",
      "MonsoonIntensity                   0\n",
      "TopographyDrainage                 0\n",
      "RiverManagement                    0\n",
      "Deforestation                      0\n",
      "Urbanization                       0\n",
      "ClimateChange                      0\n",
      "DamsQuality                        0\n",
      "Siltation                          0\n",
      "AgriculturalPractices              0\n",
      "Encroachments                      0\n",
      "IneffectiveDisasterPreparedness    0\n",
      "DrainageSystems                    0\n",
      "CoastalVulnerability               0\n",
      "Landslides                         0\n",
      "Watersheds                         0\n",
      "DeterioratingInfrastructure        0\n",
      "PopulationScore                    0\n",
      "WetlandLoss                        0\n",
      "InadequatePlanning                 0\n",
      "PoliticalFactors                   0\n",
      "FloodProbability                   0\n",
      "dtype: int64\n",
      "\n",
      "\n",
      "TEST data\n",
      "\n",
      "MonsoonIntensity                   0\n",
      "TopographyDrainage                 0\n",
      "RiverManagement                    0\n",
      "Deforestation                      0\n",
      "Urbanization                       0\n",
      "ClimateChange                      0\n",
      "DamsQuality                        0\n",
      "Siltation                          0\n",
      "AgriculturalPractices              0\n",
      "Encroachments                      0\n",
      "IneffectiveDisasterPreparedness    0\n",
      "DrainageSystems                    0\n",
      "CoastalVulnerability               0\n",
      "Landslides                         0\n",
      "Watersheds                         0\n",
      "DeterioratingInfrastructure        0\n",
      "PopulationScore                    0\n",
      "WetlandLoss                        0\n",
      "InadequatePlanning                 0\n",
      "PoliticalFactors                   0\n",
      "dtype: int64\n"
     ]
    }
   ],
   "source": [
    "print('TRAIN data\\n')\n",
    "print(f'{train.isna().sum()}\\n\\n')\n",
    "\n",
    "print('TEST data\\n')\n",
    "print(test.isna().sum())"
   ]
  },
  {
   "cell_type": "markdown",
   "metadata": {},
   "source": [
    "there are no duplicates, fortunately"
   ]
  },
  {
   "cell_type": "markdown",
   "metadata": {},
   "source": [
    "### drop duplicate"
   ]
  },
  {
   "cell_type": "code",
   "execution_count": 8,
   "metadata": {},
   "outputs": [
    {
     "name": "stdout",
     "output_type": "stream",
     "text": [
      "0\n",
      "0\n"
     ]
    }
   ],
   "source": [
    "train_duplicates_number = train[train.duplicated()]\n",
    "test_duplicates_number = test[test.duplicated()]\n",
    "                             \n",
    "print(len(train_duplicates_number))\n",
    "print(len(test_duplicates_number))"
   ]
  },
  {
   "cell_type": "markdown",
   "metadata": {},
   "source": [
    "There are no duplicates either"
   ]
  },
  {
   "cell_type": "code",
   "execution_count": 9,
   "metadata": {},
   "outputs": [
    {
     "name": "stdout",
     "output_type": "stream",
     "text": [
      "<class 'pandas.core.frame.DataFrame'>\n",
      "RangeIndex: 1117957 entries, 0 to 1117956\n",
      "Data columns (total 21 columns):\n",
      " #   Column                           Non-Null Count    Dtype  \n",
      "---  ------                           --------------    -----  \n",
      " 0   MonsoonIntensity                 1117957 non-null  int64  \n",
      " 1   TopographyDrainage               1117957 non-null  int64  \n",
      " 2   RiverManagement                  1117957 non-null  int64  \n",
      " 3   Deforestation                    1117957 non-null  int64  \n",
      " 4   Urbanization                     1117957 non-null  int64  \n",
      " 5   ClimateChange                    1117957 non-null  int64  \n",
      " 6   DamsQuality                      1117957 non-null  int64  \n",
      " 7   Siltation                        1117957 non-null  int64  \n",
      " 8   AgriculturalPractices            1117957 non-null  int64  \n",
      " 9   Encroachments                    1117957 non-null  int64  \n",
      " 10  IneffectiveDisasterPreparedness  1117957 non-null  int64  \n",
      " 11  DrainageSystems                  1117957 non-null  int64  \n",
      " 12  CoastalVulnerability             1117957 non-null  int64  \n",
      " 13  Landslides                       1117957 non-null  int64  \n",
      " 14  Watersheds                       1117957 non-null  int64  \n",
      " 15  DeterioratingInfrastructure      1117957 non-null  int64  \n",
      " 16  PopulationScore                  1117957 non-null  int64  \n",
      " 17  WetlandLoss                      1117957 non-null  int64  \n",
      " 18  InadequatePlanning               1117957 non-null  int64  \n",
      " 19  PoliticalFactors                 1117957 non-null  int64  \n",
      " 20  FloodProbability                 1117957 non-null  float64\n",
      "dtypes: float64(1), int64(20)\n",
      "memory usage: 179.1 MB\n"
     ]
    }
   ],
   "source": [
    "train.info()"
   ]
  },
  {
   "cell_type": "markdown",
   "metadata": {},
   "source": [
    "all values have an integer form , it makes no sense to divide them into categorical and numeric"
   ]
  },
  {
   "cell_type": "code",
   "execution_count": 10,
   "metadata": {},
   "outputs": [],
   "source": [
    "columns=list(train.columns)"
   ]
  },
  {
   "cell_type": "markdown",
   "metadata": {},
   "source": [
    "### let's look at the distribution of data"
   ]
  },
  {
   "cell_type": "code",
   "execution_count": 79,
   "metadata": {},
   "outputs": [
    {
     "data": {
      "image/png": "[encoded data removed]",
      "text/plain": [
       "<Figure size 3200x1200 with 21 Axes>"
      ]
     },
     "metadata": {},
     "output_type": "display_data"
    }
   ],
   "source": [
    "fig= plt.figure(figsize=[32, 12])\n",
    "fig.suptitle('Distribution of Numerical features', fontsize=18, fontweight='bold')\n",
    "fig.subplots_adjust(top=0.9)\n",
    "fig.subplots_adjust(hspace=0.5, wspace=0.3)\n",
    "for i ,lab in enumerate(columns):\n",
    "\n",
    "    ax = fig.add_subplot(5, 5, i+1)\n",
    "    sns.kdeplot(data=train[columns], x=lab,ax=ax,warn_singular=False)\n",
    "    \n",
    "    ax.set_title(f'{lab}')\n",
    "plt.show()"
   ]
  },
  {
   "cell_type": "markdown",
   "metadata": {},
   "source": [
    "as you can see, the data is distributed according to Rayleigh's law , as I assume, the target feature is similar"
   ]
  },
  {
   "cell_type": "markdown",
   "metadata": {},
   "source": [
    "### let's consider the importance of features based on two classifiers"
   ]
  },
  {
   "cell_type": "code",
   "execution_count": 11,
   "metadata": {},
   "outputs": [],
   "source": [
    "y=train['FloodProbability']\n",
    "train.drop(columns='FloodProbability',axis=1,inplace=True)\n",
    "X=train\n"
   ]
  },
  {
   "cell_type": "code",
   "execution_count": 12,
   "metadata": {},
   "outputs": [],
   "source": [
    "# scale data \n",
    "scale_data=StandardScaler()\n",
    "X_feature=scale_data.fit_transform(X)"
   ]
  },
  {
   "cell_type": "code",
   "execution_count": 13,
   "metadata": {},
   "outputs": [],
   "source": [
    "# ~8 min\n",
    "best_xgb=XGBRegressor(\n",
    "    objective='reg:squarederror',\n",
    "    n_estimators=800,\n",
    "    max_depth= 15,\n",
    "    learning_rate= 0.001,\n",
    "    subsample= 0.8,\n",
    "    colsample_bytree= 0.9,\n",
    "    colsample_bylevel= 0.8,  \n",
    "    reg_lambda= 0.1,   # L2 regularization term on weights (xgb’s lambda).\n",
    "    eval_metric= 'rmse',\n",
    "    random_state= 42,\n",
    ")\n",
    "\n",
    "best_xgb.fit(X_feature,y)\n",
    "importance_x= best_xgb.feature_importances_"
   ]
  },
  {
   "cell_type": "code",
   "execution_count": null,
   "metadata": {},
   "outputs": [],
   "source": [
    "# for CBR\n",
    "# ~2 min\n",
    "best_cbr=CatBoostRegressor(\n",
    "    n_estimators=800,\n",
    "    learning_rate=10**(-3),\n",
    "    loss_function=\"RMSE\",\n",
    "    eval_metric=\"RMSE\",\n",
    "    random_seed=45\n",
    ")\n",
    "\n",
    "best_cbr.fit(X_feature,y)\n",
    "\n",
    "importance_c=best_cbr.feature_importances_"
   ]
  },
  {
   "cell_type": "code",
   "execution_count": 16,
   "metadata": {},
   "outputs": [
    {
     "data": {
      "image/png": "[encoded data removed]",
      "text/plain": [
       "<Figure size 1200x800 with 1 Axes>"
      ]
     },
     "metadata": {},
     "output_type": "display_data"
    }
   ],
   "source": [
    "# compare output\n",
    "d={\n",
    "     'CatBoostClassifier':importance_c,\n",
    "     'XGBRegressor': importance_x*100\n",
    " }\n",
    "feature_importance=pd.DataFrame(data=d,index=X.columns).sort_values(ascending=True,by=['XGBRegressor','CatBoostClassifier'])   \n",
    "feature_importance.plot(kind='barh', figsize=(12, 8), color=['blue','orange']); "
   ]
  },
  {
   "cell_type": "markdown",
   "metadata": {},
   "source": [
    "it can be seen that there are no signs that stand out strongly from the rest"
   ]
  },
  {
   "cell_type": "markdown",
   "metadata": {},
   "source": [
    "### learning models"
   ]
  },
  {
   "cell_type": "markdown",
   "metadata": {},
   "source": [
    "make meta model"
   ]
  },
  {
   "cell_type": "code",
   "execution_count": 13,
   "metadata": {},
   "outputs": [],
   "source": [
    "X=train\n",
    "X_scale=scale_data.fit_transform(X)\n"
   ]
  },
  {
   "cell_type": "code",
   "execution_count": 14,
   "metadata": {},
   "outputs": [],
   "source": [
    "x_train,x_val,y_train,y_val= train_test_split(X_scale,y,test_size=0.3,random_state=55)"
   ]
  },
  {
   "cell_type": "code",
   "execution_count": 15,
   "metadata": {},
   "outputs": [],
   "source": [
    "X_test=test\n",
    "X_scale_ts=scale_data.fit_transform(X_test)"
   ]
  },
  {
   "cell_type": "markdown",
   "metadata": {},
   "source": [
    "https://www.kaggle.com/code/arunklenin/ps4e5-autogluon-regression-baseline#3.-Additional-Features"
   ]
  },
  {
   "cell_type": "markdown",
   "metadata": {},
   "source": [
    "### Catboost"
   ]
  },
  {
   "cell_type": "code",
   "execution_count": null,
   "metadata": {},
   "outputs": [],
   "source": [
    "catboost=CatBoostRegressor(\n",
    "    loss_function='RMSE',\n",
    "    eval_metric='RMSE',\n",
    "    task_type=\"GPU\",\n",
    "    verbose=False\n",
    ")\n",
    "\n",
    "parametrs={\n",
    "    'n_estimators':range(800,1200,100),\n",
    "    'learning_rate': np.linspace(0.001,0.01,10),\n",
    "    'max_depth':range(7,15,2),\n",
    "    'l2_leaf_reg':range(0,100,10),\n",
    "}\n",
    "\n",
    "random_search_cat=RandomizedSearchCV(\n",
    "    estimator=catboost,\n",
    "    param_distributions=parametrs,\n",
    "    n_iter=1,\n",
    "    n_jobs=1,\n",
    "    cv=2,\n",
    "    scoring='r2'\n",
    ")\n",
    "\n",
    "random_search_cat.fit(x_train, y_train)\n",
    "print(f'{random_search_cat.best_params_,random_search_cat.score(x_train, y_train)}\\n')"
   ]
  },
  {
   "cell_type": "markdown",
   "metadata": {},
   "source": [
    "({'n_estimators': 800, 'max_depth': 7, 'learning_rate': 0.009000000000000001, 'l2_leaf_reg': 80}, 0.7224337773504169)"
   ]
  },
  {
   "cell_type": "code",
   "execution_count": 16,
   "metadata": {},
   "outputs": [],
   "source": [
    "train_cat=random_search_cat.predict(X_scale)\n",
    "np.save('cat_m',train_cat)"
   ]
  },
  {
   "cell_type": "code",
   "execution_count": 17,
   "metadata": {},
   "outputs": [],
   "source": [
    "\n",
    "# ({'max_depth': 11, 'learning_rate': 0.008, 'l2_leaf_reg': 20, 'iterations': 700}, 0.7583061304333912)\n",
    "# save\n",
    "with open('cat.pkl','wb') as f:\n",
    "    pickle.dump(random_search_cat,f)\n",
    "# load\n",
    "with open('cat.pkl', 'rb') as f:\n",
    "    rsc = pickle.load(f)"
   ]
  },
  {
   "cell_type": "markdown",
   "metadata": {},
   "source": [
    "### XGBoost"
   ]
  },
  {
   "cell_type": "markdown",
   "metadata": {},
   "source": [
    "https://kevinvecmanis.io/machine%20learning/hyperparameter%20tuning/dataviz/python/2019/05/11/XGBoost-Tuning-Visual-Guide.html"
   ]
  },
  {
   "cell_type": "code",
   "execution_count": 20,
   "metadata": {},
   "outputs": [],
   "source": [
    "xbg=XGBRegressor(\n",
    "    random_state= 42,\n",
    ")\n",
    "\n",
    "parametrs={\n",
    "    'learning_rate':np.arange(0.01,0.1,10),\n",
    "    'n_estimators': np.arange(800,1200,5),\n",
    "    #'reg_alpha':np.arange(0.0001,1,0.1),\n",
    "    #'reg_lambda':np.arange(0.0001,1,0.1),\n",
    "    'subsample':np.arange(0.8,1,0.1)\n",
    "}\n",
    "\n",
    "random_search_xgb=RandomizedSearchCV(\n",
    "    estimator=xbg,\n",
    "    param_distributions=parametrs,\n",
    "    n_iter=3,\n",
    "    n_jobs=1,\n",
    "    cv=4,\n",
    "    scoring='r2'\n",
    ")\n"
   ]
  },
  {
   "cell_type": "code",
   "execution_count": null,
   "metadata": {},
   "outputs": [],
   "source": [
    "\n",
    "random_search_xgb.fit(x_train, y_train)\n",
    "print(f'{random_search_xgb.best_params_,random_search_xgb.score(x_train, y_train)}\\n')"
   ]
  },
  {
   "cell_type": "code",
   "execution_count": 18,
   "metadata": {},
   "outputs": [],
   "source": [
    "# ({'subsample': 0.9, 'n_estimators': 1188, 'learning_rate': 0.01}, 0.8002575365238154)\n",
    "# save\n",
    "with open('xgb.pkl','wb') as f:\n",
    "    pickle.dump(random_search_cat,f)\n",
    "# load\n",
    "with open('xgb.pkl', 'rb') as f:\n",
    "    xgb = pickle.load(f)\n"
   ]
  },
  {
   "cell_type": "code",
   "execution_count": null,
   "metadata": {},
   "outputs": [],
   "source": [
    "# save as numpy array\n",
    "train_xgb=random_search_xgb.predict(X_scale)\n",
    "np.save('xgb_m',train_xgb)"
   ]
  },
  {
   "cell_type": "code",
   "execution_count": null,
   "metadata": {},
   "outputs": [],
   "source": [
    "# for test data\n",
    "test_xgb=random_search_xgb.predict(X_scale_ts)\n",
    "np.save('xgb_test',test_xgb)\n",
    "test_cat=random_search_cat.predict(X_scale_ts)\n",
    "np.save('cat_test',test_cat)"
   ]
  },
  {
   "cell_type": "markdown",
   "metadata": {},
   "source": [
    "### Torch"
   ]
  },
  {
   "cell_type": "markdown",
   "metadata": {},
   "source": [
    "work with data"
   ]
  },
  {
   "cell_type": "code",
   "execution_count": 24,
   "metadata": {},
   "outputs": [],
   "source": [
    "class FloodData( torch.utils.data.Dataset ):\n",
    "\n",
    "    def __init__(self,x,y):\n",
    "        # data load\n",
    "        self.x=torch.from_numpy(x)\n",
    "        self.y=torch.from_numpy(y.to_numpy()).unsqueeze(1)\n",
    "        self.n_samples=x.shape[0]\n",
    "    def __getitem__(self,index):\n",
    "        # dataset[]\n",
    "        return self.x[index],self.y[index]\n",
    "    def __len__ (self):\n",
    "        return self.n_samples"
   ]
  },
  {
   "cell_type": "code",
   "execution_count": 25,
   "metadata": {},
   "outputs": [],
   "source": [
    "# stack data from calaasifier and train dataset\n",
    "xgb_pr = np.load('xgb_m.npy')\n",
    "cat_pr = np.load('cat_m.npy')\n",
    "# for test\n",
    "xgb_ts = np.load('xgb_test.npy')\n",
    "cat_ts = np.load('cat_test.npy')"
   ]
  },
  {
   "cell_type": "code",
   "execution_count": 26,
   "metadata": {},
   "outputs": [],
   "source": [
    "X_train_extended = np.hstack((X_scale, xgb_pr.reshape(-1, 1),cat_pr.reshape(-1, 1)))\n",
    "X_test_extended = np.hstack((X_scale_ts, xgb_ts.reshape(-1, 1), cat_ts.reshape(-1, 1)))\n",
    "\n",
    "# Split data into training and validation sets\n",
    "x_train, x_val, y_train, y_val = train_test_split(X_train_extended, y, test_size=0.20, random_state=42)"
   ]
  },
  {
   "cell_type": "code",
   "execution_count": 27,
   "metadata": {},
   "outputs": [],
   "source": [
    "data=FloodData(x_train,y_train)\n",
    "data_loader=DataLoader(dataset=data,batch_size=10000,shuffle=True)\n",
    "\n",
    "data_val=FloodData(x_val,y_val)\n",
    "val_loader=DataLoader(dataset=data_val,batch_size=10000,shuffle=False)"
   ]
  },
  {
   "cell_type": "code",
   "execution_count": 56,
   "metadata": {},
   "outputs": [],
   "source": [
    "#The beauty is in the simpl\n",
    "class simple_nn(nn.Module):\n",
    "    def __init__ (self,input_size):\n",
    "        super(simple_nn,self).__init__()\n",
    "\n",
    "        self.seq1=nn.Sequential(\n",
    "            nn.Linear(in_features=input_size,out_features=2048),\n",
    "            nn.BatchNorm1d(2048),\n",
    "            nn.ReLU(),\n",
    "        )\n",
    "        self.seq2=nn.Sequential(\n",
    "            nn.Linear(in_features=2048,out_features=2048),\n",
    "            nn.BatchNorm1d(2048),\n",
    "            nn.ReLU()\n",
    "        )\n",
    "        self.seq3=nn.Sequential(\n",
    "            nn.Linear(in_features=2048,out_features=1024),\n",
    "            nn.BatchNorm1d(1024),\n",
    "            nn.ReLU()\n",
    "        )\n",
    "        self.seq4=nn.Sequential(\n",
    "            nn.Linear(in_features=1024,out_features=1024),\n",
    "            nn.BatchNorm1d(1024),\n",
    "            nn.ReLU()\n",
    "        )\n",
    "        self.seq5=nn.Sequential(\n",
    "            nn.Linear(in_features=1024,out_features=512),\n",
    "            nn.BatchNorm1d(512),\n",
    "            nn.ReLU()\n",
    "        )\n",
    "        self.seq6=nn.Sequential(\n",
    "            nn.Linear(in_features=512,out_features=256),\n",
    "            nn.BatchNorm1d(256),\n",
    "            nn.ReLU()\n",
    "        )\n",
    "        self.seq7=nn.Sequential(\n",
    "            nn.Linear(in_features=256,out_features=128),\n",
    "            nn.BatchNorm1d(128),\n",
    "            nn.ReLU()\n",
    "        )\n",
    "        self.out=nn.Sequential(\n",
    "            nn.Linear(in_features=128,out_features=1),\n",
    "            nn.Sigmoid()\n",
    "        )\n",
    "\n",
    "    def forward(self, x):\n",
    "        \n",
    "        x=self.seq1(x.float())\n",
    "        x=self.seq2(x)\n",
    "        x=self.seq3(x)\n",
    "        x=self.seq4(x)\n",
    "        x=self.seq5(x)\n",
    "        x=self.seq6(x)\n",
    "        x=self.seq7(x)\n",
    "        \n",
    "        x=self.out(x)\n",
    "        \n",
    "        return x"
   ]
  },
  {
   "cell_type": "code",
   "execution_count": 57,
   "metadata": {},
   "outputs": [
    {
     "name": "stdout",
     "output_type": "stream",
     "text": [
      "=================================================================\n",
      "Layer (type:depth-idx)                   Param #\n",
      "=================================================================\n",
      "├─Sequential: 1-1                        --\n",
      "|    └─Linear: 2-1                       47,104\n",
      "|    └─BatchNorm1d: 2-2                  4,096\n",
      "|    └─ReLU: 2-3                         --\n",
      "├─Sequential: 1-2                        --\n",
      "|    └─Linear: 2-4                       4,196,352\n",
      "|    └─BatchNorm1d: 2-5                  4,096\n",
      "|    └─ReLU: 2-6                         --\n",
      "├─Sequential: 1-3                        --\n",
      "|    └─Linear: 2-7                       2,098,176\n",
      "|    └─BatchNorm1d: 2-8                  2,048\n",
      "|    └─ReLU: 2-9                         --\n",
      "├─Sequential: 1-4                        --\n",
      "|    └─Linear: 2-10                      1,049,600\n",
      "|    └─BatchNorm1d: 2-11                 2,048\n",
      "|    └─ReLU: 2-12                        --\n",
      "├─Sequential: 1-5                        --\n",
      "|    └─Linear: 2-13                      524,800\n",
      "|    └─BatchNorm1d: 2-14                 1,024\n",
      "|    └─ReLU: 2-15                        --\n",
      "├─Sequential: 1-6                        --\n",
      "|    └─Linear: 2-16                      131,328\n",
      "|    └─BatchNorm1d: 2-17                 512\n",
      "|    └─ReLU: 2-18                        --\n",
      "├─Sequential: 1-7                        --\n",
      "|    └─Linear: 2-19                      32,896\n",
      "|    └─BatchNorm1d: 2-20                 256\n",
      "|    └─ReLU: 2-21                        --\n",
      "├─Sequential: 1-8                        --\n",
      "|    └─Linear: 2-22                      129\n",
      "|    └─Sigmoid: 2-23                     --\n",
      "=================================================================\n",
      "Total params: 8,094,465\n",
      "Trainable params: 8,094,465\n",
      "Non-trainable params: 0\n",
      "=================================================================\n"
     ]
    },
    {
     "data": {
      "text/plain": [
       "=================================================================\n",
       "Layer (type:depth-idx)                   Param #\n",
       "=================================================================\n",
       "├─Sequential: 1-1                        --\n",
       "|    └─Linear: 2-1                       47,104\n",
       "|    └─BatchNorm1d: 2-2                  4,096\n",
       "|    └─ReLU: 2-3                         --\n",
       "├─Sequential: 1-2                        --\n",
       "|    └─Linear: 2-4                       4,196,352\n",
       "|    └─BatchNorm1d: 2-5                  4,096\n",
       "|    └─ReLU: 2-6                         --\n",
       "├─Sequential: 1-3                        --\n",
       "|    └─Linear: 2-7                       2,098,176\n",
       "|    └─BatchNorm1d: 2-8                  2,048\n",
       "|    └─ReLU: 2-9                         --\n",
       "├─Sequential: 1-4                        --\n",
       "|    └─Linear: 2-10                      1,049,600\n",
       "|    └─BatchNorm1d: 2-11                 2,048\n",
       "|    └─ReLU: 2-12                        --\n",
       "├─Sequential: 1-5                        --\n",
       "|    └─Linear: 2-13                      524,800\n",
       "|    └─BatchNorm1d: 2-14                 1,024\n",
       "|    └─ReLU: 2-15                        --\n",
       "├─Sequential: 1-6                        --\n",
       "|    └─Linear: 2-16                      131,328\n",
       "|    └─BatchNorm1d: 2-17                 512\n",
       "|    └─ReLU: 2-18                        --\n",
       "├─Sequential: 1-7                        --\n",
       "|    └─Linear: 2-19                      32,896\n",
       "|    └─BatchNorm1d: 2-20                 256\n",
       "|    └─ReLU: 2-21                        --\n",
       "├─Sequential: 1-8                        --\n",
       "|    └─Linear: 2-22                      129\n",
       "|    └─Sigmoid: 2-23                     --\n",
       "=================================================================\n",
       "Total params: 8,094,465\n",
       "Trainable params: 8,094,465\n",
       "Non-trainable params: 0\n",
       "================================================================="
      ]
     },
     "execution_count": 57,
     "metadata": {},
     "output_type": "execute_result"
    }
   ],
   "source": [
    "device='cuda' if torch.cuda.is_available() else 'cpu'\n",
    "model=simple_nn(input_size=x_train[0].size).to(device)\n",
    "summary(model)"
   ]
  },
  {
   "cell_type": "code",
   "execution_count": 58,
   "metadata": {},
   "outputs": [
    {
     "data": {
      "text/plain": [
       "22"
      ]
     },
     "execution_count": 58,
     "metadata": {},
     "output_type": "execute_result"
    }
   ],
   "source": [
    "x_train[0].size"
   ]
  },
  {
   "cell_type": "markdown",
   "metadata": {},
   "source": [
    "### train NN"
   ]
  },
  {
   "cell_type": "code",
   "execution_count": 60,
   "metadata": {},
   "outputs": [],
   "source": [
    "criterion=torch.nn.HuberLoss()\n",
    "model=simple_nn(22).to(device)\n",
    "optimizer=torch.optim.Adam(model.parameters(), lr=3*(10**(-3)),)\n",
    "scheduler=torch.optim.lr_scheduler.StepLR(optimizer, step_size=4, gamma=0.1)"
   ]
  },
  {
   "cell_type": "code",
   "execution_count": 61,
   "metadata": {},
   "outputs": [],
   "source": [
    "def fit_epoch(model,train_set,optimizer,sheduler,criterion):\n",
    "    model.train()\n",
    "    print ('Train')\n",
    "    metric=[]\n",
    "    tr_loss=0\n",
    "    processed=0\n",
    "\n",
    "    for x_bat,y_bat in train_set:\n",
    "        # remove to cuda\n",
    "        x_bat,y_bat=x_bat.to(device),y_bat.float()\n",
    "        # train model for new weight\n",
    "        outp=model(x_bat)\n",
    "        # define the loss\n",
    "        loss=criterion(y_bat.to(device),outp)\n",
    "        # backward\n",
    "        loss.backward()\n",
    "        # next step for learning NN\n",
    "        optimizer.step()\n",
    "                # zero weight\n",
    "        optimizer.zero_grad()\n",
    "        # calculate loss and processed data\n",
    "        tr_loss+=loss.item()*x_bat.size(0)\n",
    "        processed+=x_bat.size(0)\n",
    "\n",
    "        metric.append(r2_score(  y_bat.detach().numpy(),  outp.cpu().detach().numpy()  ))\n",
    "\n",
    "    avg_loss=tr_loss/processed\n",
    "    avg_r2=(sum(metric))/(len(metric))\n",
    "    sheduler.step()\n",
    "\n",
    "    print(f\"Training Loss: {avg_loss:.4f}, Training R2: {avg_r2:.4f}\")\n",
    "    return  avg_loss,avg_r2\n",
    "\n",
    "def eval_epoch(model,test_set,criterion):\n",
    "    model.eval()\n",
    "\n",
    "    metric=[]\n",
    "    ts_loss=0\n",
    "    processed=0\n",
    "    for x_bat,y_bat in test_set:\n",
    "        x_bat,y_bat=x_bat.to(device),y_bat.float()\n",
    "\n",
    "        with torch.no_grad():\n",
    "            outp=model(x_bat)\n",
    "            loss=criterion(y_bat.to(device),outp)\n",
    "            metric.append(r2_score(  y_bat.detach().numpy(),  outp.cpu().detach().numpy()  ))\n",
    "        \n",
    "        ts_loss+=loss.item()*x_bat.size(0)\n",
    "        processed+=x_bat.size(0)\n",
    "\n",
    "    avg_loss=ts_loss/processed\n",
    "    avg_r2=(sum(metric))/(len(metric))\n",
    "    print(f\"Eval Loss: {avg_loss:.4f}, Eval R2: {avg_r2:.4f}\")\n",
    "\n",
    "    return avg_loss,avg_r2\n",
    "\n",
    "def train (train_set,val_set,model,optimizer,criterion,epochs):\n",
    "    best_val_loss=float('inf')\n",
    "    best_model_state = None\n",
    "    history=[]\n",
    "    model=model.to(device)\n",
    "\n",
    "    with tqdm(total=epochs) as pbar_outer:\n",
    "\n",
    "        for epoch in range(epochs):\n",
    "            \n",
    "            avg_loss,avg_r2=fit_epoch(model,train_set,optimizer,scheduler,criterion)\n",
    "            avg_loss_eval,avg_r2_eval = eval_epoch(model, val_set, criterion)\n",
    "\n",
    "            history.append((avg_loss,avg_loss, avg_r2, avg_r2_eval))\n",
    "            \n",
    "            pbar_outer.update(1)\n",
    "\n",
    "            if avg_loss_eval<best_val_loss:\n",
    "                best_val_loss=avg_loss_eval\n",
    "                best_model_state = model.state_dict()\n",
    "                torch.save(model.state_dict(),'bestmodel.pt')\n",
    "\n",
    "    return history\n",
    "\n",
    "def prepare_submission(model_state, test_data_extended, test_ids, filename='submission.csv'):\n",
    "    '''Predictions and Submission'''\n",
    "    # load weight\n",
    "    model.load_state_dict(model_state)\n",
    "    # make torch tensor\n",
    "    X_test_torch = torch.tensor(test_data_extended.astype(np.float32)).cuda()\n",
    "    # predict\n",
    "    predictions = model(X_test_torch)#.detach().numpy().squeeze()\n",
    "    # predict tensor to np.array\n",
    "    predictions=predictions.cpu().detach().numpy().squeeze()\n",
    "    # make dataframe \n",
    "    submission_df = pd.DataFrame({\n",
    "        'id': test_ids,\n",
    "        'Exited': predictions\n",
    "    })\n",
    "    submission_df.to_csv(f'E:\\mphti\\\\training\\pl_gr\\{filename}', index=False)\n",
    "    print(f\"Predictions saved to {filename}\")"
   ]
  },
  {
   "cell_type": "code",
   "execution_count": 62,
   "metadata": {},
   "outputs": [
    {
     "name": "stdout",
     "output_type": "stream",
     "text": [
      "Train\n",
      "Training Loss: 0.0005, Training R2: 0.5937\n",
      "Eval Loss: 0.0002, Eval R2: 0.8543\n"
     ]
    },
    {
     "data": {
      "text/plain": [
       "(0.0001895218868108322, 0.8542596246077794)"
      ]
     },
     "execution_count": 62,
     "metadata": {},
     "output_type": "execute_result"
    }
   ],
   "source": [
    "fit_epoch(model,data_loader,optimizer,scheduler,criterion)\n",
    "eval_epoch(model,val_loader,criterion)\n"
   ]
  },
  {
   "cell_type": "code",
   "execution_count": 63,
   "metadata": {},
   "outputs": [
    {
     "name": "stderr",
     "output_type": "stream",
     "text": [
      "  0%|          | 0/90 [00:00<?, ?it/s]"
     ]
    },
    {
     "name": "stdout",
     "output_type": "stream",
     "text": [
      "Train\n",
      "Training Loss: 0.0002, Training R2: 0.8571\n"
     ]
    },
    {
     "name": "stderr",
     "output_type": "stream",
     "text": [
      "  1%|          | 1/90 [00:37<55:27, 37.38s/it]"
     ]
    },
    {
     "name": "stdout",
     "output_type": "stream",
     "text": [
      "Eval Loss: 0.0002, Eval R2: 0.8591\n",
      "Train\n",
      "Training Loss: 0.0002, Training R2: 0.8597\n"
     ]
    },
    {
     "name": "stderr",
     "output_type": "stream",
     "text": [
      "  2%|▏         | 2/90 [01:13<53:33, 36.52s/it]"
     ]
    },
    {
     "name": "stdout",
     "output_type": "stream",
     "text": [
      "Eval Loss: 0.0002, Eval R2: 0.8606\n",
      "Train\n",
      "Training Loss: 0.0002, Training R2: 0.8605\n"
     ]
    },
    {
     "name": "stderr",
     "output_type": "stream",
     "text": [
      "  3%|▎         | 3/90 [01:49<52:40, 36.33s/it]"
     ]
    },
    {
     "name": "stdout",
     "output_type": "stream",
     "text": [
      "Eval Loss: 0.0002, Eval R2: 0.8612\n",
      "Train\n",
      "Training Loss: 0.0002, Training R2: 0.8618\n"
     ]
    },
    {
     "name": "stderr",
     "output_type": "stream",
     "text": [
      "  4%|▍         | 4/90 [02:25<51:55, 36.23s/it]"
     ]
    },
    {
     "name": "stdout",
     "output_type": "stream",
     "text": [
      "Eval Loss: 0.0002, Eval R2: 0.8617\n",
      "Train\n",
      "Training Loss: 0.0002, Training R2: 0.8620\n"
     ]
    },
    {
     "name": "stderr",
     "output_type": "stream",
     "text": [
      "  6%|▌         | 5/90 [03:01<51:17, 36.21s/it]"
     ]
    },
    {
     "name": "stdout",
     "output_type": "stream",
     "text": [
      "Eval Loss: 0.0002, Eval R2: 0.8619\n",
      "Train\n",
      "Training Loss: 0.0002, Training R2: 0.8621\n"
     ]
    },
    {
     "name": "stderr",
     "output_type": "stream",
     "text": [
      "  7%|▋         | 6/90 [03:37<50:40, 36.19s/it]"
     ]
    },
    {
     "name": "stdout",
     "output_type": "stream",
     "text": [
      "Eval Loss: 0.0002, Eval R2: 0.8619\n",
      "Train\n",
      "Training Loss: 0.0002, Training R2: 0.8623\n"
     ]
    },
    {
     "name": "stderr",
     "output_type": "stream",
     "text": [
      "  8%|▊         | 7/90 [04:14<50:04, 36.20s/it]"
     ]
    },
    {
     "name": "stdout",
     "output_type": "stream",
     "text": [
      "Eval Loss: 0.0002, Eval R2: 0.8621\n",
      "Train\n",
      "Training Loss: 0.0002, Training R2: 0.8625\n"
     ]
    },
    {
     "name": "stderr",
     "output_type": "stream",
     "text": [
      "  9%|▉         | 8/90 [04:50<49:27, 36.19s/it]"
     ]
    },
    {
     "name": "stdout",
     "output_type": "stream",
     "text": [
      "Eval Loss: 0.0002, Eval R2: 0.8621\n",
      "Train\n",
      "Training Loss: 0.0002, Training R2: 0.8624\n"
     ]
    },
    {
     "name": "stderr",
     "output_type": "stream",
     "text": [
      " 10%|█         | 9/90 [05:26<48:53, 36.22s/it]"
     ]
    },
    {
     "name": "stdout",
     "output_type": "stream",
     "text": [
      "Eval Loss: 0.0002, Eval R2: 0.8621\n",
      "Train\n",
      "Training Loss: 0.0002, Training R2: 0.8625\n"
     ]
    },
    {
     "name": "stderr",
     "output_type": "stream",
     "text": [
      " 11%|█         | 10/90 [06:02<48:16, 36.21s/it]"
     ]
    },
    {
     "name": "stdout",
     "output_type": "stream",
     "text": [
      "Eval Loss: 0.0002, Eval R2: 0.8621\n",
      "Train\n",
      "Training Loss: 0.0002, Training R2: 0.8625\n"
     ]
    },
    {
     "name": "stderr",
     "output_type": "stream",
     "text": [
      " 12%|█▏        | 11/90 [06:38<47:41, 36.22s/it]"
     ]
    },
    {
     "name": "stdout",
     "output_type": "stream",
     "text": [
      "Eval Loss: 0.0002, Eval R2: 0.8622\n",
      "Train\n",
      "Training Loss: 0.0002, Training R2: 0.8624\n"
     ]
    },
    {
     "name": "stderr",
     "output_type": "stream",
     "text": [
      " 13%|█▎        | 12/90 [07:15<47:24, 36.46s/it]"
     ]
    },
    {
     "name": "stdout",
     "output_type": "stream",
     "text": [
      "Eval Loss: 0.0002, Eval R2: 0.8622\n",
      "Train\n",
      "Training Loss: 0.0002, Training R2: 0.8624\n"
     ]
    },
    {
     "name": "stderr",
     "output_type": "stream",
     "text": [
      " 14%|█▍        | 13/90 [07:51<46:18, 36.09s/it]"
     ]
    },
    {
     "name": "stdout",
     "output_type": "stream",
     "text": [
      "Eval Loss: 0.0002, Eval R2: 0.8622\n",
      "Train\n",
      "Training Loss: 0.0002, Training R2: 0.8625\n"
     ]
    },
    {
     "name": "stderr",
     "output_type": "stream",
     "text": [
      " 16%|█▌        | 14/90 [08:26<45:21, 35.81s/it]"
     ]
    },
    {
     "name": "stdout",
     "output_type": "stream",
     "text": [
      "Eval Loss: 0.0002, Eval R2: 0.8621\n",
      "Train\n",
      "Training Loss: 0.0002, Training R2: 0.8625\n"
     ]
    },
    {
     "name": "stderr",
     "output_type": "stream",
     "text": [
      " 17%|█▋        | 15/90 [09:01<44:31, 35.62s/it]"
     ]
    },
    {
     "name": "stdout",
     "output_type": "stream",
     "text": [
      "Eval Loss: 0.0002, Eval R2: 0.8621\n",
      "Train\n",
      "Training Loss: 0.0002, Training R2: 0.8625\n"
     ]
    },
    {
     "name": "stderr",
     "output_type": "stream",
     "text": [
      " 18%|█▊        | 16/90 [09:36<43:44, 35.47s/it]"
     ]
    },
    {
     "name": "stdout",
     "output_type": "stream",
     "text": [
      "Eval Loss: 0.0002, Eval R2: 0.8622\n",
      "Train\n",
      "Training Loss: 0.0002, Training R2: 0.8625\n"
     ]
    },
    {
     "name": "stderr",
     "output_type": "stream",
     "text": [
      " 19%|█▉        | 17/90 [10:11<43:05, 35.41s/it]"
     ]
    },
    {
     "name": "stdout",
     "output_type": "stream",
     "text": [
      "Eval Loss: 0.0002, Eval R2: 0.8622\n",
      "Train\n",
      "Training Loss: 0.0002, Training R2: 0.8625\n"
     ]
    },
    {
     "name": "stderr",
     "output_type": "stream",
     "text": [
      " 20%|██        | 18/90 [10:47<42:24, 35.34s/it]"
     ]
    },
    {
     "name": "stdout",
     "output_type": "stream",
     "text": [
      "Eval Loss: 0.0002, Eval R2: 0.8622\n",
      "Train\n",
      "Training Loss: 0.0002, Training R2: 0.8626\n"
     ]
    },
    {
     "name": "stderr",
     "output_type": "stream",
     "text": [
      " 21%|██        | 19/90 [11:23<42:08, 35.61s/it]"
     ]
    },
    {
     "name": "stdout",
     "output_type": "stream",
     "text": [
      "Eval Loss: 0.0002, Eval R2: 0.8622\n",
      "Train\n",
      "Training Loss: 0.0002, Training R2: 0.8625\n"
     ]
    },
    {
     "name": "stderr",
     "output_type": "stream",
     "text": [
      " 22%|██▏       | 20/90 [11:58<41:23, 35.48s/it]"
     ]
    },
    {
     "name": "stdout",
     "output_type": "stream",
     "text": [
      "Eval Loss: 0.0002, Eval R2: 0.8622\n",
      "Train\n",
      "Training Loss: 0.0002, Training R2: 0.8625\n"
     ]
    },
    {
     "name": "stderr",
     "output_type": "stream",
     "text": [
      " 23%|██▎       | 21/90 [12:33<40:43, 35.41s/it]"
     ]
    },
    {
     "name": "stdout",
     "output_type": "stream",
     "text": [
      "Eval Loss: 0.0002, Eval R2: 0.8622\n",
      "Train\n",
      "Training Loss: 0.0002, Training R2: 0.8626\n"
     ]
    },
    {
     "name": "stderr",
     "output_type": "stream",
     "text": [
      " 24%|██▍       | 22/90 [13:08<40:01, 35.32s/it]"
     ]
    },
    {
     "name": "stdout",
     "output_type": "stream",
     "text": [
      "Eval Loss: 0.0002, Eval R2: 0.8622\n",
      "Train\n",
      "Training Loss: 0.0002, Training R2: 0.8625\n"
     ]
    },
    {
     "name": "stderr",
     "output_type": "stream",
     "text": [
      " 26%|██▌       | 23/90 [13:44<39:24, 35.29s/it]"
     ]
    },
    {
     "name": "stdout",
     "output_type": "stream",
     "text": [
      "Eval Loss: 0.0002, Eval R2: 0.8622\n",
      "Train\n",
      "Training Loss: 0.0002, Training R2: 0.8625\n"
     ]
    },
    {
     "name": "stderr",
     "output_type": "stream",
     "text": [
      " 27%|██▋       | 24/90 [14:19<38:46, 35.25s/it]"
     ]
    },
    {
     "name": "stdout",
     "output_type": "stream",
     "text": [
      "Eval Loss: 0.0002, Eval R2: 0.8622\n",
      "Train\n",
      "Training Loss: 0.0002, Training R2: 0.8626\n"
     ]
    },
    {
     "name": "stderr",
     "output_type": "stream",
     "text": [
      " 28%|██▊       | 25/90 [14:54<38:11, 35.25s/it]"
     ]
    },
    {
     "name": "stdout",
     "output_type": "stream",
     "text": [
      "Eval Loss: 0.0002, Eval R2: 0.8622\n",
      "Train\n",
      "Training Loss: 0.0002, Training R2: 0.8626\n"
     ]
    },
    {
     "name": "stderr",
     "output_type": "stream",
     "text": [
      " 29%|██▉       | 26/90 [15:29<37:34, 35.23s/it]"
     ]
    },
    {
     "name": "stdout",
     "output_type": "stream",
     "text": [
      "Eval Loss: 0.0002, Eval R2: 0.8622\n",
      "Train\n",
      "Training Loss: 0.0002, Training R2: 0.8625\n"
     ]
    },
    {
     "name": "stderr",
     "output_type": "stream",
     "text": [
      " 30%|███       | 27/90 [16:04<37:00, 35.24s/it]"
     ]
    },
    {
     "name": "stdout",
     "output_type": "stream",
     "text": [
      "Eval Loss: 0.0002, Eval R2: 0.8622\n",
      "Train\n",
      "Training Loss: 0.0002, Training R2: 0.8625\n"
     ]
    },
    {
     "name": "stderr",
     "output_type": "stream",
     "text": [
      " 31%|███       | 28/90 [16:40<36:24, 35.23s/it]"
     ]
    },
    {
     "name": "stdout",
     "output_type": "stream",
     "text": [
      "Eval Loss: 0.0002, Eval R2: 0.8622\n",
      "Train\n",
      "Training Loss: 0.0002, Training R2: 0.8625\n"
     ]
    },
    {
     "name": "stderr",
     "output_type": "stream",
     "text": [
      " 32%|███▏      | 29/90 [17:15<35:48, 35.23s/it]"
     ]
    },
    {
     "name": "stdout",
     "output_type": "stream",
     "text": [
      "Eval Loss: 0.0002, Eval R2: 0.8622\n",
      "Train\n",
      "Training Loss: 0.0002, Training R2: 0.8626\n"
     ]
    },
    {
     "name": "stderr",
     "output_type": "stream",
     "text": [
      " 33%|███▎      | 30/90 [17:51<35:30, 35.50s/it]"
     ]
    },
    {
     "name": "stdout",
     "output_type": "stream",
     "text": [
      "Eval Loss: 0.0002, Eval R2: 0.8622\n",
      "Train\n",
      "Training Loss: 0.0002, Training R2: 0.8626\n"
     ]
    },
    {
     "name": "stderr",
     "output_type": "stream",
     "text": [
      " 34%|███▍      | 31/90 [18:26<34:49, 35.42s/it]"
     ]
    },
    {
     "name": "stdout",
     "output_type": "stream",
     "text": [
      "Eval Loss: 0.0002, Eval R2: 0.8622\n",
      "Train\n",
      "Training Loss: 0.0002, Training R2: 0.8624\n"
     ]
    },
    {
     "name": "stderr",
     "output_type": "stream",
     "text": [
      " 36%|███▌      | 32/90 [19:01<34:09, 35.34s/it]"
     ]
    },
    {
     "name": "stdout",
     "output_type": "stream",
     "text": [
      "Eval Loss: 0.0002, Eval R2: 0.8622\n",
      "Train\n",
      "Training Loss: 0.0002, Training R2: 0.8625\n"
     ]
    },
    {
     "name": "stderr",
     "output_type": "stream",
     "text": [
      " 37%|███▋      | 33/90 [19:37<33:33, 35.32s/it]"
     ]
    },
    {
     "name": "stdout",
     "output_type": "stream",
     "text": [
      "Eval Loss: 0.0002, Eval R2: 0.8622\n",
      "Train\n",
      "Training Loss: 0.0002, Training R2: 0.8625\n"
     ]
    },
    {
     "name": "stderr",
     "output_type": "stream",
     "text": [
      " 38%|███▊      | 34/90 [20:12<32:55, 35.27s/it]"
     ]
    },
    {
     "name": "stdout",
     "output_type": "stream",
     "text": [
      "Eval Loss: 0.0002, Eval R2: 0.8622\n",
      "Train\n",
      "Training Loss: 0.0002, Training R2: 0.8625\n"
     ]
    },
    {
     "name": "stderr",
     "output_type": "stream",
     "text": [
      " 39%|███▉      | 35/90 [20:47<32:19, 35.26s/it]"
     ]
    },
    {
     "name": "stdout",
     "output_type": "stream",
     "text": [
      "Eval Loss: 0.0002, Eval R2: 0.8622\n",
      "Train\n",
      "Training Loss: 0.0002, Training R2: 0.8625\n"
     ]
    },
    {
     "name": "stderr",
     "output_type": "stream",
     "text": [
      " 40%|████      | 36/90 [21:23<31:57, 35.50s/it]"
     ]
    },
    {
     "name": "stdout",
     "output_type": "stream",
     "text": [
      "Eval Loss: 0.0002, Eval R2: 0.8622\n",
      "Train\n",
      "Training Loss: 0.0002, Training R2: 0.8625\n"
     ]
    },
    {
     "name": "stderr",
     "output_type": "stream",
     "text": [
      " 41%|████      | 37/90 [21:58<31:18, 35.44s/it]"
     ]
    },
    {
     "name": "stdout",
     "output_type": "stream",
     "text": [
      "Eval Loss: 0.0002, Eval R2: 0.8622\n",
      "Train\n",
      "Training Loss: 0.0002, Training R2: 0.8625\n"
     ]
    },
    {
     "name": "stderr",
     "output_type": "stream",
     "text": [
      " 42%|████▏     | 38/90 [22:34<30:38, 35.35s/it]"
     ]
    },
    {
     "name": "stdout",
     "output_type": "stream",
     "text": [
      "Eval Loss: 0.0002, Eval R2: 0.8622\n",
      "Train\n",
      "Training Loss: 0.0002, Training R2: 0.8625\n"
     ]
    },
    {
     "name": "stderr",
     "output_type": "stream",
     "text": [
      " 43%|████▎     | 39/90 [23:09<30:00, 35.31s/it]"
     ]
    },
    {
     "name": "stdout",
     "output_type": "stream",
     "text": [
      "Eval Loss: 0.0002, Eval R2: 0.8622\n",
      "Train\n",
      "Training Loss: 0.0002, Training R2: 0.8625\n"
     ]
    },
    {
     "name": "stderr",
     "output_type": "stream",
     "text": [
      " 44%|████▍     | 40/90 [23:44<29:23, 35.27s/it]"
     ]
    },
    {
     "name": "stdout",
     "output_type": "stream",
     "text": [
      "Eval Loss: 0.0002, Eval R2: 0.8622\n",
      "Train\n",
      "Training Loss: 0.0002, Training R2: 0.8625\n"
     ]
    },
    {
     "name": "stderr",
     "output_type": "stream",
     "text": [
      " 46%|████▌     | 41/90 [24:19<28:47, 35.25s/it]"
     ]
    },
    {
     "name": "stdout",
     "output_type": "stream",
     "text": [
      "Eval Loss: 0.0002, Eval R2: 0.8622\n",
      "Train\n",
      "Training Loss: 0.0002, Training R2: 0.8625\n"
     ]
    },
    {
     "name": "stderr",
     "output_type": "stream",
     "text": [
      " 47%|████▋     | 42/90 [24:56<28:36, 35.75s/it]"
     ]
    },
    {
     "name": "stdout",
     "output_type": "stream",
     "text": [
      "Eval Loss: 0.0002, Eval R2: 0.8622\n",
      "Train\n",
      "Training Loss: 0.0002, Training R2: 0.8625\n"
     ]
    },
    {
     "name": "stderr",
     "output_type": "stream",
     "text": [
      " 48%|████▊     | 43/90 [25:32<28:05, 35.86s/it]"
     ]
    },
    {
     "name": "stdout",
     "output_type": "stream",
     "text": [
      "Eval Loss: 0.0002, Eval R2: 0.8622\n",
      "Train\n",
      "Training Loss: 0.0002, Training R2: 0.8624\n"
     ]
    },
    {
     "name": "stderr",
     "output_type": "stream",
     "text": [
      " 49%|████▉     | 44/90 [26:07<27:18, 35.62s/it]"
     ]
    },
    {
     "name": "stdout",
     "output_type": "stream",
     "text": [
      "Eval Loss: 0.0002, Eval R2: 0.8622\n",
      "Train\n",
      "Training Loss: 0.0002, Training R2: 0.8625\n"
     ]
    },
    {
     "name": "stderr",
     "output_type": "stream",
     "text": [
      " 50%|█████     | 45/90 [26:44<27:03, 36.09s/it]"
     ]
    },
    {
     "name": "stdout",
     "output_type": "stream",
     "text": [
      "Eval Loss: 0.0002, Eval R2: 0.8622\n",
      "Train\n",
      "Training Loss: 0.0002, Training R2: 0.8625\n"
     ]
    },
    {
     "name": "stderr",
     "output_type": "stream",
     "text": [
      " 51%|█████     | 46/90 [27:21<26:37, 36.30s/it]"
     ]
    },
    {
     "name": "stdout",
     "output_type": "stream",
     "text": [
      "Eval Loss: 0.0002, Eval R2: 0.8622\n",
      "Train\n",
      "Training Loss: 0.0002, Training R2: 0.8625\n"
     ]
    },
    {
     "name": "stderr",
     "output_type": "stream",
     "text": [
      " 52%|█████▏    | 47/90 [27:57<25:51, 36.09s/it]"
     ]
    },
    {
     "name": "stdout",
     "output_type": "stream",
     "text": [
      "Eval Loss: 0.0002, Eval R2: 0.8622\n",
      "Train\n",
      "Training Loss: 0.0002, Training R2: 0.8626\n"
     ]
    },
    {
     "name": "stderr",
     "output_type": "stream",
     "text": [
      " 53%|█████▎    | 48/90 [28:32<25:04, 35.81s/it]"
     ]
    },
    {
     "name": "stdout",
     "output_type": "stream",
     "text": [
      "Eval Loss: 0.0002, Eval R2: 0.8622\n",
      "Train\n",
      "Training Loss: 0.0002, Training R2: 0.8625\n"
     ]
    },
    {
     "name": "stderr",
     "output_type": "stream",
     "text": [
      " 54%|█████▍    | 49/90 [29:07<24:18, 35.58s/it]"
     ]
    },
    {
     "name": "stdout",
     "output_type": "stream",
     "text": [
      "Eval Loss: 0.0002, Eval R2: 0.8621\n",
      "Train\n",
      "Training Loss: 0.0002, Training R2: 0.8625\n"
     ]
    },
    {
     "name": "stderr",
     "output_type": "stream",
     "text": [
      " 56%|█████▌    | 50/90 [29:41<23:23, 35.10s/it]"
     ]
    },
    {
     "name": "stdout",
     "output_type": "stream",
     "text": [
      "Eval Loss: 0.0002, Eval R2: 0.8622\n",
      "Train\n",
      "Training Loss: 0.0002, Training R2: 0.8625\n"
     ]
    },
    {
     "name": "stderr",
     "output_type": "stream",
     "text": [
      " 57%|█████▋    | 51/90 [30:16<22:51, 35.17s/it]"
     ]
    },
    {
     "name": "stdout",
     "output_type": "stream",
     "text": [
      "Eval Loss: 0.0002, Eval R2: 0.8622\n",
      "Train\n",
      "Training Loss: 0.0002, Training R2: 0.8625\n"
     ]
    },
    {
     "name": "stderr",
     "output_type": "stream",
     "text": [
      " 58%|█████▊    | 52/90 [30:50<22:03, 34.83s/it]"
     ]
    },
    {
     "name": "stdout",
     "output_type": "stream",
     "text": [
      "Eval Loss: 0.0002, Eval R2: 0.8621\n",
      "Train\n",
      "Training Loss: 0.0002, Training R2: 0.8625\n"
     ]
    },
    {
     "name": "stderr",
     "output_type": "stream",
     "text": [
      " 59%|█████▉    | 53/90 [31:26<21:36, 35.05s/it]"
     ]
    },
    {
     "name": "stdout",
     "output_type": "stream",
     "text": [
      "Eval Loss: 0.0002, Eval R2: 0.8622\n",
      "Train\n",
      "Training Loss: 0.0002, Training R2: 0.8625\n"
     ]
    },
    {
     "name": "stderr",
     "output_type": "stream",
     "text": [
      " 60%|██████    | 54/90 [32:01<21:02, 35.07s/it]"
     ]
    },
    {
     "name": "stdout",
     "output_type": "stream",
     "text": [
      "Eval Loss: 0.0002, Eval R2: 0.8622\n",
      "Train\n",
      "Training Loss: 0.0002, Training R2: 0.8625\n"
     ]
    },
    {
     "name": "stderr",
     "output_type": "stream",
     "text": [
      " 61%|██████    | 55/90 [32:36<20:28, 35.10s/it]"
     ]
    },
    {
     "name": "stdout",
     "output_type": "stream",
     "text": [
      "Eval Loss: 0.0002, Eval R2: 0.8622\n",
      "Train\n",
      "Training Loss: 0.0002, Training R2: 0.8625\n"
     ]
    },
    {
     "name": "stderr",
     "output_type": "stream",
     "text": [
      " 62%|██████▏   | 56/90 [33:11<19:53, 35.12s/it]"
     ]
    },
    {
     "name": "stdout",
     "output_type": "stream",
     "text": [
      "Eval Loss: 0.0002, Eval R2: 0.8622\n",
      "Train\n",
      "Training Loss: 0.0002, Training R2: 0.8626\n"
     ]
    },
    {
     "name": "stderr",
     "output_type": "stream",
     "text": [
      " 63%|██████▎   | 57/90 [33:47<19:19, 35.13s/it]"
     ]
    },
    {
     "name": "stdout",
     "output_type": "stream",
     "text": [
      "Eval Loss: 0.0002, Eval R2: 0.8622\n",
      "Train\n",
      "Training Loss: 0.0002, Training R2: 0.8625\n"
     ]
    },
    {
     "name": "stderr",
     "output_type": "stream",
     "text": [
      " 64%|██████▍   | 58/90 [34:23<18:52, 35.40s/it]"
     ]
    },
    {
     "name": "stdout",
     "output_type": "stream",
     "text": [
      "Eval Loss: 0.0002, Eval R2: 0.8622\n",
      "Train\n",
      "Training Loss: 0.0002, Training R2: 0.8625\n"
     ]
    },
    {
     "name": "stderr",
     "output_type": "stream",
     "text": [
      " 66%|██████▌   | 59/90 [34:58<18:15, 35.33s/it]"
     ]
    },
    {
     "name": "stdout",
     "output_type": "stream",
     "text": [
      "Eval Loss: 0.0002, Eval R2: 0.8622\n",
      "Train\n",
      "Training Loss: 0.0002, Training R2: 0.8625\n"
     ]
    },
    {
     "name": "stderr",
     "output_type": "stream",
     "text": [
      " 67%|██████▋   | 60/90 [35:34<17:51, 35.72s/it]"
     ]
    },
    {
     "name": "stdout",
     "output_type": "stream",
     "text": [
      "Eval Loss: 0.0002, Eval R2: 0.8622\n",
      "Train\n",
      "Training Loss: 0.0002, Training R2: 0.8624\n"
     ]
    },
    {
     "name": "stderr",
     "output_type": "stream",
     "text": [
      " 68%|██████▊   | 61/90 [36:10<17:11, 35.56s/it]"
     ]
    },
    {
     "name": "stdout",
     "output_type": "stream",
     "text": [
      "Eval Loss: 0.0002, Eval R2: 0.8622\n",
      "Train\n",
      "Training Loss: 0.0002, Training R2: 0.8626\n"
     ]
    },
    {
     "name": "stderr",
     "output_type": "stream",
     "text": [
      " 69%|██████▉   | 62/90 [36:44<16:26, 35.22s/it]"
     ]
    },
    {
     "name": "stdout",
     "output_type": "stream",
     "text": [
      "Eval Loss: 0.0002, Eval R2: 0.8621\n",
      "Train\n",
      "Training Loss: 0.0002, Training R2: 0.8626\n"
     ]
    },
    {
     "name": "stderr",
     "output_type": "stream",
     "text": [
      " 70%|███████   | 63/90 [37:17<15:36, 34.68s/it]"
     ]
    },
    {
     "name": "stdout",
     "output_type": "stream",
     "text": [
      "Eval Loss: 0.0002, Eval R2: 0.8622\n",
      "Train\n",
      "Training Loss: 0.0002, Training R2: 0.8625\n"
     ]
    },
    {
     "name": "stderr",
     "output_type": "stream",
     "text": [
      " 71%|███████   | 64/90 [37:50<14:47, 34.12s/it]"
     ]
    },
    {
     "name": "stdout",
     "output_type": "stream",
     "text": [
      "Eval Loss: 0.0002, Eval R2: 0.8621\n",
      "Train\n",
      "Training Loss: 0.0002, Training R2: 0.8626\n"
     ]
    },
    {
     "name": "stderr",
     "output_type": "stream",
     "text": [
      " 72%|███████▏  | 65/90 [38:23<14:03, 33.76s/it]"
     ]
    },
    {
     "name": "stdout",
     "output_type": "stream",
     "text": [
      "Eval Loss: 0.0002, Eval R2: 0.8621\n",
      "Train\n",
      "Training Loss: 0.0002, Training R2: 0.8625\n"
     ]
    },
    {
     "name": "stderr",
     "output_type": "stream",
     "text": [
      " 73%|███████▎  | 66/90 [38:56<13:23, 33.47s/it]"
     ]
    },
    {
     "name": "stdout",
     "output_type": "stream",
     "text": [
      "Eval Loss: 0.0002, Eval R2: 0.8621\n",
      "Train\n",
      "Training Loss: 0.0002, Training R2: 0.8625\n"
     ]
    },
    {
     "name": "stderr",
     "output_type": "stream",
     "text": [
      " 74%|███████▍  | 67/90 [39:29<12:46, 33.31s/it]"
     ]
    },
    {
     "name": "stdout",
     "output_type": "stream",
     "text": [
      "Eval Loss: 0.0002, Eval R2: 0.8622\n",
      "Train\n",
      "Training Loss: 0.0002, Training R2: 0.8626\n"
     ]
    },
    {
     "name": "stderr",
     "output_type": "stream",
     "text": [
      " 76%|███████▌  | 68/90 [40:02<12:09, 33.14s/it]"
     ]
    },
    {
     "name": "stdout",
     "output_type": "stream",
     "text": [
      "Eval Loss: 0.0002, Eval R2: 0.8622\n",
      "Train\n",
      "Training Loss: 0.0002, Training R2: 0.8625\n"
     ]
    },
    {
     "name": "stderr",
     "output_type": "stream",
     "text": [
      " 77%|███████▋  | 69/90 [40:34<11:34, 33.06s/it]"
     ]
    },
    {
     "name": "stdout",
     "output_type": "stream",
     "text": [
      "Eval Loss: 0.0002, Eval R2: 0.8622\n",
      "Train\n",
      "Training Loss: 0.0002, Training R2: 0.8625\n"
     ]
    },
    {
     "name": "stderr",
     "output_type": "stream",
     "text": [
      " 78%|███████▊  | 70/90 [41:09<11:07, 33.39s/it]"
     ]
    },
    {
     "name": "stdout",
     "output_type": "stream",
     "text": [
      "Eval Loss: 0.0002, Eval R2: 0.8622\n",
      "Train\n",
      "Training Loss: 0.0002, Training R2: 0.8625\n"
     ]
    },
    {
     "name": "stderr",
     "output_type": "stream",
     "text": [
      " 79%|███████▉  | 71/90 [41:45<10:50, 34.25s/it]"
     ]
    },
    {
     "name": "stdout",
     "output_type": "stream",
     "text": [
      "Eval Loss: 0.0002, Eval R2: 0.8622\n",
      "Train\n",
      "Training Loss: 0.0002, Training R2: 0.8625\n"
     ]
    },
    {
     "name": "stderr",
     "output_type": "stream",
     "text": [
      " 80%|████████  | 72/90 [42:18<10:12, 34.02s/it]"
     ]
    },
    {
     "name": "stdout",
     "output_type": "stream",
     "text": [
      "Eval Loss: 0.0002, Eval R2: 0.8622\n",
      "Train\n",
      "Training Loss: 0.0002, Training R2: 0.8626\n"
     ]
    },
    {
     "name": "stderr",
     "output_type": "stream",
     "text": [
      " 81%|████████  | 73/90 [42:51<09:32, 33.67s/it]"
     ]
    },
    {
     "name": "stdout",
     "output_type": "stream",
     "text": [
      "Eval Loss: 0.0002, Eval R2: 0.8622\n",
      "Train\n",
      "Training Loss: 0.0002, Training R2: 0.8626\n"
     ]
    },
    {
     "name": "stderr",
     "output_type": "stream",
     "text": [
      " 82%|████████▏ | 74/90 [43:26<09:03, 33.94s/it]"
     ]
    },
    {
     "name": "stdout",
     "output_type": "stream",
     "text": [
      "Eval Loss: 0.0002, Eval R2: 0.8622\n",
      "Train\n",
      "Training Loss: 0.0002, Training R2: 0.8626\n"
     ]
    },
    {
     "name": "stderr",
     "output_type": "stream",
     "text": [
      " 83%|████████▎ | 75/90 [44:01<08:34, 34.33s/it]"
     ]
    },
    {
     "name": "stdout",
     "output_type": "stream",
     "text": [
      "Eval Loss: 0.0002, Eval R2: 0.8621\n",
      "Train\n",
      "Training Loss: 0.0002, Training R2: 0.8625\n"
     ]
    },
    {
     "name": "stderr",
     "output_type": "stream",
     "text": [
      " 84%|████████▍ | 76/90 [44:38<08:12, 35.21s/it]"
     ]
    },
    {
     "name": "stdout",
     "output_type": "stream",
     "text": [
      "Eval Loss: 0.0002, Eval R2: 0.8622\n",
      "Train\n",
      "Training Loss: 0.0002, Training R2: 0.8626\n"
     ]
    },
    {
     "name": "stderr",
     "output_type": "stream",
     "text": [
      " 86%|████████▌ | 77/90 [45:13<07:36, 35.13s/it]"
     ]
    },
    {
     "name": "stdout",
     "output_type": "stream",
     "text": [
      "Eval Loss: 0.0002, Eval R2: 0.8622\n",
      "Train\n",
      "Training Loss: 0.0002, Training R2: 0.8626\n"
     ]
    },
    {
     "name": "stderr",
     "output_type": "stream",
     "text": [
      " 87%|████████▋ | 78/90 [45:47<06:55, 34.59s/it]"
     ]
    },
    {
     "name": "stdout",
     "output_type": "stream",
     "text": [
      "Eval Loss: 0.0002, Eval R2: 0.8622\n",
      "Train\n",
      "Training Loss: 0.0002, Training R2: 0.8626\n"
     ]
    },
    {
     "name": "stderr",
     "output_type": "stream",
     "text": [
      " 88%|████████▊ | 79/90 [46:22<06:24, 34.93s/it]"
     ]
    },
    {
     "name": "stdout",
     "output_type": "stream",
     "text": [
      "Eval Loss: 0.0002, Eval R2: 0.8622\n",
      "Train\n",
      "Training Loss: 0.0002, Training R2: 0.8625\n"
     ]
    },
    {
     "name": "stderr",
     "output_type": "stream",
     "text": [
      " 89%|████████▉ | 80/90 [46:57<05:49, 34.97s/it]"
     ]
    },
    {
     "name": "stdout",
     "output_type": "stream",
     "text": [
      "Eval Loss: 0.0002, Eval R2: 0.8622\n",
      "Train\n",
      "Training Loss: 0.0002, Training R2: 0.8625\n"
     ]
    },
    {
     "name": "stderr",
     "output_type": "stream",
     "text": [
      " 90%|█████████ | 81/90 [47:33<05:15, 35.05s/it]"
     ]
    },
    {
     "name": "stdout",
     "output_type": "stream",
     "text": [
      "Eval Loss: 0.0002, Eval R2: 0.8622\n",
      "Train\n",
      "Training Loss: 0.0002, Training R2: 0.8625\n"
     ]
    },
    {
     "name": "stderr",
     "output_type": "stream",
     "text": [
      " 91%|█████████ | 82/90 [48:08<04:40, 35.08s/it]"
     ]
    },
    {
     "name": "stdout",
     "output_type": "stream",
     "text": [
      "Eval Loss: 0.0002, Eval R2: 0.8621\n",
      "Train\n",
      "Training Loss: 0.0002, Training R2: 0.8626\n"
     ]
    },
    {
     "name": "stderr",
     "output_type": "stream",
     "text": [
      " 92%|█████████▏| 83/90 [48:43<04:05, 35.11s/it]"
     ]
    },
    {
     "name": "stdout",
     "output_type": "stream",
     "text": [
      "Eval Loss: 0.0002, Eval R2: 0.8622\n",
      "Train\n",
      "Training Loss: 0.0002, Training R2: 0.8626\n"
     ]
    },
    {
     "name": "stderr",
     "output_type": "stream",
     "text": [
      " 93%|█████████▎| 84/90 [49:17<03:29, 34.87s/it]"
     ]
    },
    {
     "name": "stdout",
     "output_type": "stream",
     "text": [
      "Eval Loss: 0.0002, Eval R2: 0.8622\n",
      "Train\n",
      "Training Loss: 0.0002, Training R2: 0.8626\n"
     ]
    },
    {
     "name": "stderr",
     "output_type": "stream",
     "text": [
      " 94%|█████████▍| 85/90 [49:50<02:51, 34.35s/it]"
     ]
    },
    {
     "name": "stdout",
     "output_type": "stream",
     "text": [
      "Eval Loss: 0.0002, Eval R2: 0.8622\n",
      "Train\n",
      "Training Loss: 0.0002, Training R2: 0.8625\n"
     ]
    },
    {
     "name": "stderr",
     "output_type": "stream",
     "text": [
      " 96%|█████████▌| 86/90 [50:23<02:15, 33.93s/it]"
     ]
    },
    {
     "name": "stdout",
     "output_type": "stream",
     "text": [
      "Eval Loss: 0.0002, Eval R2: 0.8622\n",
      "Train\n",
      "Training Loss: 0.0002, Training R2: 0.8625\n"
     ]
    },
    {
     "name": "stderr",
     "output_type": "stream",
     "text": [
      " 97%|█████████▋| 87/90 [50:56<01:40, 33.65s/it]"
     ]
    },
    {
     "name": "stdout",
     "output_type": "stream",
     "text": [
      "Eval Loss: 0.0002, Eval R2: 0.8622\n",
      "Train\n",
      "Training Loss: 0.0002, Training R2: 0.8625\n"
     ]
    },
    {
     "name": "stderr",
     "output_type": "stream",
     "text": [
      " 98%|█████████▊| 88/90 [51:29<01:06, 33.40s/it]"
     ]
    },
    {
     "name": "stdout",
     "output_type": "stream",
     "text": [
      "Eval Loss: 0.0002, Eval R2: 0.8621\n",
      "Train\n",
      "Training Loss: 0.0002, Training R2: 0.8625\n"
     ]
    },
    {
     "name": "stderr",
     "output_type": "stream",
     "text": [
      " 99%|█████████▉| 89/90 [52:03<00:33, 33.62s/it]"
     ]
    },
    {
     "name": "stdout",
     "output_type": "stream",
     "text": [
      "Eval Loss: 0.0002, Eval R2: 0.8622\n",
      "Train\n",
      "Training Loss: 0.0002, Training R2: 0.8625\n"
     ]
    },
    {
     "name": "stderr",
     "output_type": "stream",
     "text": [
      "100%|██████████| 90/90 [52:38<00:00, 35.10s/it]"
     ]
    },
    {
     "name": "stdout",
     "output_type": "stream",
     "text": [
      "Eval Loss: 0.0002, Eval R2: 0.8622\n"
     ]
    },
    {
     "name": "stderr",
     "output_type": "stream",
     "text": [
      "\n"
     ]
    }
   ],
   "source": [
    "# let's train the model\n",
    "history=train(train_set=data_loader,\n",
    "              val_set=val_loader,\n",
    "              model=model,\n",
    "              optimizer=optimizer,\n",
    "              criterion=criterion,\n",
    "              epochs=90\n",
    "              )"
   ]
  },
  {
   "cell_type": "code",
   "execution_count": 64,
   "metadata": {},
   "outputs": [
    {
     "name": "stdout",
     "output_type": "stream",
     "text": [
      "Mean accuracy 0.8620960994234959\n"
     ]
    }
   ],
   "source": [
    "loss=[history[i][3] for i in range(0,len(history)) ]\n",
    "import statistics \n",
    "print (f\"Mean accuracy {statistics.mean(loss)}\")"
   ]
  },
  {
   "cell_type": "code",
   "execution_count": 65,
   "metadata": {},
   "outputs": [],
   "source": [
    "dataset_test = FloodData(X_test_extended, pd.Series([np.nan]*len(X_test), index=X_test.index))\n",
    "dataset_test_loader = torch.utils.data.DataLoader(dataset_test,\n",
    "                                                batch_size=10000,\n",
    "                                                generator=torch.Generator(device='cpu')\n",
    "                                            )"
   ]
  },
  {
   "cell_type": "code",
   "execution_count": 66,
   "metadata": {},
   "outputs": [],
   "source": [
    "def prepare_submission(path, test_data_extended, test_ids):\n",
    "    '''Predictions and Submission'''\n",
    "    # load weight\n",
    "    model.load_state_dict(torch.load(path))\n",
    "\n",
    "    Y_test_pred = []\n",
    "    for inputs, outputs in tqdm(test_data_extended):\n",
    "        preds = model(inputs.cuda())\n",
    "        preds_np = preds.cpu().detach().numpy()\n",
    "        Y_test_pred += list(preds_np)\n",
    "\n",
    "\n",
    "    # make dataframe \n",
    "    submission_df = pd.DataFrame({\n",
    "        'id': test_ids,\n",
    "        'FloodProbability': Y_test_pred\n",
    "    })\n",
    "    return submission_df"
   ]
  },
  {
   "cell_type": "code",
   "execution_count": 67,
   "metadata": {},
   "outputs": [
    {
     "name": "stderr",
     "output_type": "stream",
     "text": [
      "100%|██████████| 75/75 [00:12<00:00,  5.81it/s]\n"
     ]
    }
   ],
   "source": [
    "sub_df=prepare_submission(r'E:\\mphti\\training\\s4e5\\bestmodel.pt',dataset_test_loader,test_id)"
   ]
  },
  {
   "cell_type": "code",
   "execution_count": 68,
   "metadata": {},
   "outputs": [],
   "source": [
    "sub_df['FloodProbability'] = sub_df['FloodProbability'].map(lambda x: x[0])"
   ]
  },
  {
   "cell_type": "code",
   "execution_count": 69,
   "metadata": {},
   "outputs": [],
   "source": [
    "sub_df.to_csv(f'E:\\mphti\\\\training\\s4e5\\submission.csv', index=False)"
   ]
  }
 ],
 "metadata": {
  "kernelspec": {
   "display_name": "Python 3",
   "language": "python",
   "name": "python3"
  },
  "language_info": {
   "codemirror_mode": {
    "name": "ipython",
    "version": 3
   },
   "file_extension": ".py",
   "mimetype": "text/x-python",
   "name": "python",
   "nbconvert_exporter": "python",
   "pygments_lexer": "ipython3",
   "version": "3.8.10"
  }
 },
 "nbformat": 4,
 "nbformat_minor": 2
}
